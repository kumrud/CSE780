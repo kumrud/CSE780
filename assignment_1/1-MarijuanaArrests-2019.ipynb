{
 "cells": [
  {
   "cell_type": "code",
   "execution_count": 29,
   "metadata": {},
   "outputs": [],
   "source": [
    "library(arules)\n",
    "library(carData)\n",
    "source(\"std_lift.R\")"
   ]
  },
  {
   "cell_type": "code",
   "execution_count": 22,
   "metadata": {
    "scrolled": false
   },
   "outputs": [
    {
     "name": "stdout",
     "output_type": "stream",
     "text": [
      "'data.frame':\t5226 obs. of  8 variables:\n",
      " $ released: Factor w/ 2 levels \"No\",\"Yes\": 2 1 2 1 2 2 2 2 2 2 ...\n",
      " $ colour  : Factor w/ 2 levels \"Black\",\"White\": 2 1 2 1 1 1 2 2 1 2 ...\n",
      " $ year    : int  2002 1999 2000 2000 1999 1998 1999 1998 2000 2001 ...\n",
      " $ age     : int  21 17 24 46 27 16 40 34 23 30 ...\n",
      " $ sex     : Factor w/ 2 levels \"Female\",\"Male\": 2 2 2 2 1 1 2 1 2 2 ...\n",
      " $ employed: Factor w/ 2 levels \"No\",\"Yes\": 2 2 2 2 2 2 1 2 2 2 ...\n",
      " $ citizen : Factor w/ 2 levels \"No\",\"Yes\": 2 2 2 2 2 2 2 2 2 2 ...\n",
      " $ checks  : int  3 3 3 1 1 0 0 1 4 3 ...\n"
     ]
    }
   ],
   "source": [
    "data(Arrests)\n",
    "str(Arrests)"
   ]
  },
  {
   "cell_type": "code",
   "execution_count": 1,
   "metadata": {},
   "outputs": [
    {
     "name": "stdout",
     "output_type": "stream",
     "text": [
      "'data.frame':\t5226 obs. of  9 variables:\n",
      " $ X       : int  1 2 3 4 5 6 7 8 9 10 ...\n",
      " $ released: Factor w/ 2 levels \"No\",\"Yes\": 2 1 2 1 2 2 2 2 2 2 ...\n",
      " $ colour  : Factor w/ 2 levels \"Black\",\"White\": 2 1 2 1 1 1 2 2 1 2 ...\n",
      " $ year    : int  2002 1999 2000 2000 1999 1998 1999 1998 2000 2001 ...\n",
      " $ age     : int  21 17 24 46 27 16 40 34 23 30 ...\n",
      " $ sex     : Factor w/ 2 levels \"Female\",\"Male\": 2 2 2 2 1 1 2 1 2 2 ...\n",
      " $ employed: Factor w/ 2 levels \"No\",\"Yes\": 2 2 2 2 2 2 1 2 2 2 ...\n",
      " $ citizen : Factor w/ 2 levels \"No\",\"Yes\": 2 2 2 2 2 2 2 2 2 2 ...\n",
      " $ checks  : int  3 3 3 1 1 0 0 1 4 3 ...\n"
     ]
    }
   ],
   "source": [
    "df <- read.csv(\"https://raw.githubusercontent.com/SieSiongWong/DATA-607/master/Arrests.csv\", header=TRUE, sep=\",\")\n",
    "str(df)"
   ]
  },
  {
   "cell_type": "markdown",
   "metadata": {},
   "source": [
    "We will be considering only the categorical data for the association analysis for this dataset. So we get rid of age and  change checks and year columns data types."
   ]
  },
  {
   "cell_type": "code",
   "execution_count": 26,
   "metadata": {
    "scrolled": true
   },
   "outputs": [
    {
     "name": "stdout",
     "output_type": "stream",
     "text": [
      "'data.frame':\t5226 obs. of  7 variables:\n",
      " $ released: Factor w/ 2 levels \"No\",\"Yes\": 2 1 2 1 2 2 2 2 2 2 ...\n",
      " $ colour  : Factor w/ 2 levels \"Black\",\"White\": 2 1 2 1 1 1 2 2 1 2 ...\n",
      " $ year    : Factor w/ 6 levels \"1997\",\"1998\",..: 6 3 4 4 3 2 3 2 4 5 ...\n",
      " $ sex     : Factor w/ 2 levels \"Female\",\"Male\": 2 2 2 2 1 1 2 1 2 2 ...\n",
      " $ employed: Factor w/ 2 levels \"No\",\"Yes\": 2 2 2 2 2 2 1 2 2 2 ...\n",
      " $ citizen : Factor w/ 2 levels \"No\",\"Yes\": 2 2 2 2 2 2 2 2 2 2 ...\n",
      " $ checks  : Factor w/ 7 levels \"0\",\"1\",\"2\",\"3\",..: 4 4 4 2 2 1 1 2 5 4 ...\n"
     ]
    }
   ],
   "source": [
    "Arrests$year <- factor(Arrests$year)\n",
    "Arrests$checks <- factor(Arrests$checks)\n",
    "Arrests$age <- NULL\n",
    "str(Arrests)"
   ]
  },
  {
   "cell_type": "code",
   "execution_count": 30,
   "metadata": {},
   "outputs": [
    {
     "name": "stdout",
     "output_type": "stream",
     "text": [
      "Apriori\n",
      "\n",
      "Parameter specification:\n",
      " confidence minval smax arem  aval originalSupport maxtime support minlen\n",
      "        0.8    0.1    1 none FALSE            TRUE       5     0.2      2\n",
      " maxlen target  ext\n",
      "      8  rules TRUE\n",
      "\n",
      "Algorithmic control:\n",
      " filter tree heap memopt load sort verbose\n",
      "    0.1 TRUE TRUE  FALSE TRUE    2    TRUE\n",
      "\n",
      "Absolute minimum support count: 1045 \n",
      "\n",
      "set item appearances ...[0 item(s)] done [0.00s].\n",
      "set transactions ...[23 item(s), 5226 transaction(s)] done [0.02s].\n",
      "sorting and recoding items ... [11 item(s)] done [0.00s].\n",
      "creating transaction tree ... done [0.00s].\n",
      "checking subsets of size 1 2 3 4 5 6 done [0.00s].\n",
      "writing ... [148 rule(s)] done [0.00s].\n",
      "creating S4 object  ... done [0.00s].\n",
      "      lhs               rhs              support confidence  coverage      lift count      slift\n",
      "[1]   {colour=Black} => {sex=Male}     0.2326827  0.9440994 0.2464600 1.0315416  1216 0.70345964\n",
      "[2]   {employed=Yes,                                                                            \n",
      "       citizen=Yes,                                                                             \n",
      "       checks=0}     => {released=Yes} 0.2560276  0.9363191 0.2734405 1.1290271  1338 0.68159552\n",
      "[3]   {colour=White,                                                                            \n",
      "       citizen=Yes,                                                                             \n",
      "       checks=0}     => {released=Yes} 0.2499043  0.9348604 0.2673173 1.1272682  1306 0.67430208\n",
      "[4]   {colour=White,                                                                            \n",
      "       employed=Yes,                                                                            \n",
      "       checks=0}     => {released=Yes} 0.2531573  0.9330042 0.2713356 1.1250300  1323 0.66502116\n",
      "[5]   {sex=Male,                                                                                \n",
      "       citizen=Yes,                                                                             \n",
      "       checks=0}     => {released=Yes} 0.2435897  0.9298758 0.2619594 1.1212577  1273 0.64937911\n",
      "[6]   {colour=White,                                                                            \n",
      "       employed=Yes,                                                                            \n",
      "       citizen=Yes,                                                                             \n",
      "       checks=0}     => {released=Yes} 0.2271336  0.9390823 0.2418676 1.1323590  1187 0.64808044\n",
      "[7]   {citizen=Yes,                                                                             \n",
      "       checks=0}     => {released=Yes} 0.2818599  0.9293375 0.3032912 1.1206087  1473 0.64668770\n",
      "[8]   {colour=White,                                                                            \n",
      "       sex=Male,                                                                                \n",
      "       checks=0}     => {released=Yes} 0.2437811  0.9272198 0.2629162 1.1180551  1274 0.63609898\n",
      "[9]   {colour=White,                                                                            \n",
      "       checks=0}     => {released=Yes} 0.2793724  0.9269841 0.3013777 1.1177709  1460 0.63492063\n",
      "[10]  {employed=Yes,                                                                            \n",
      "       checks=0}     => {released=Yes} 0.2920015  0.9248485 0.3157290 1.1151957  1526 0.62424242\n"
     ]
    }
   ],
   "source": [
    "x <- Arrests\n",
    "params <- list(support=0.2, confidence=0.8, minlen=2, maxlen=8)\n",
    "fit1 <- apriori(x, parameter=params)\n",
    "quality(fit1) <- std_lift(fit1,x)\n",
    "inspect(sort(fit1, by=\"slift\"))"
   ]
  }
 ],
 "metadata": {
  "kernelspec": {
   "display_name": "R",
   "language": "R",
   "name": "ir"
  },
  "language_info": {
   "codemirror_mode": "r",
   "file_extension": ".r",
   "mimetype": "text/x-r-source",
   "name": "R",
   "pygments_lexer": "r",
   "version": "3.6.1"
  }
 },
 "nbformat": 4,
 "nbformat_minor": 4
}
