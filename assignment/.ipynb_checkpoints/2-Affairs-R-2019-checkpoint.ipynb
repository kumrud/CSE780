{
 "cells": [
  {
   "cell_type": "markdown",
   "metadata": {},
   "source": [
    "install and load packages for the graphs"
   ]
  },
  {
   "cell_type": "code",
   "execution_count": 12,
   "metadata": {
    "scrolled": true
   },
   "outputs": [
    {
     "name": "stderr",
     "output_type": "stream",
     "text": [
      "also installing the dependencies ‘ps’, ‘processx’, ‘callr’, ‘prettyunits’, ‘backports’, ‘desc’, ‘pkgbuild’, ‘rprojroot’, ‘rstudioapi’, ‘evaluate’, ‘pkgload’, ‘praise’, ‘testthat’, ‘colorspace’, ‘assertthat’, ‘utf8’, ‘digest’, ‘glue’, ‘gtable’, ‘isoband’, ‘rlang’, ‘withr’, ‘magrittr’, ‘farver’, ‘labeling’, ‘lifecycle’, ‘munsell’, ‘R6’, ‘RColorBrewer’, ‘viridisLite’, ‘stringi’, ‘cli’, ‘crayon’, ‘ellipsis’, ‘fansi’, ‘pillar’, ‘pkgconfig’, ‘vctrs’, ‘ggplot2’, ‘purrr’, ‘scales’, ‘stringr’, ‘tibble’\n",
      "\n",
      "\n",
      "Warning message in install.packages(val, repos = \"http://cran.us.r-project.org\"):\n",
      "“installation of package ‘stringi’ had non-zero exit status”\n",
      "Warning message in install.packages(val, repos = \"http://cran.us.r-project.org\"):\n",
      "“installation of package ‘stringr’ had non-zero exit status”\n",
      "Warning message in install.packages(val, repos = \"http://cran.us.r-project.org\"):\n",
      "“installation of package ‘ggthemes’ had non-zero exit status”\n",
      "Updating HTML index of packages in '.Library'\n",
      "\n",
      "Making 'packages.html' ...\n",
      " done\n",
      "\n",
      "also installing the dependencies ‘Rcpp’, ‘hms’, ‘plyr’, ‘progress’\n",
      "\n",
      "\n",
      "Warning message in install.packages(val, repos = \"http://cran.us.r-project.org\"):\n",
      "“installation of package ‘GGally’ had non-zero exit status”\n",
      "Updating HTML index of packages in '.Library'\n",
      "\n",
      "Making 'packages.html' ...\n",
      " done\n",
      "\n",
      "Warning message:\n",
      "“package ‘extracat’ is not available (for R version 3.6.1)”\n",
      "Warning message in install.packages(val, repos = \"http://cran.us.r-project.org\"):\n",
      "“installation of package ‘hdrcde’ had non-zero exit status”\n",
      "Updating HTML index of packages in '.Library'\n",
      "\n",
      "Making 'packages.html' ...\n",
      " done\n",
      "\n",
      "Warning message in install.packages(val, repos = \"http://cran.us.r-project.org\"):\n",
      "“installation of package ‘KernSmooth’ had non-zero exit status”\n",
      "Updating HTML index of packages in '.Library'\n",
      "\n",
      "Making 'packages.html' ...\n",
      " done\n",
      "\n",
      "Updating HTML index of packages in '.Library'\n",
      "\n",
      "Making 'packages.html' ...\n",
      " done\n",
      "\n",
      "Updating HTML index of packages in '.Library'\n",
      "\n",
      "Making 'packages.html' ...\n",
      " done\n",
      "\n",
      "Warning message in install.packages(val, repos = \"http://cran.us.r-project.org\"):\n",
      "“installation of package ‘vcd’ had non-zero exit status”\n",
      "Updating HTML index of packages in '.Library'\n",
      "\n",
      "Making 'packages.html' ...\n",
      " done\n",
      "\n"
     ]
    }
   ],
   "source": [
    "x <- c(\"ggthemes\", \"GGally\", \"extracat\", \"hdrcde\", \"KernSmooth\", \"ggplot2\", \"gridExtra\", \"vcd\")\n",
    "for (val in x) {\n",
    "install.packages(val, repos='http://cran.us.r-project.org')\n",
    "}"
   ]
  },
  {
   "cell_type": "markdown",
   "metadata": {},
   "source": [
    "Number of affairs range between 0 to 12."
   ]
  },
  {
   "cell_type": "code",
   "execution_count": 13,
   "metadata": {
    "scrolled": true
   },
   "outputs": [
    {
     "data": {
      "text/plain": [
       "       X          naffairs           kids             hap       \n",
       " Min.   :  1   Min.   : 0.000   Min.   :0.0000   Min.   :1.000  \n",
       " 1st Qu.:151   1st Qu.: 0.000   1st Qu.:0.0000   1st Qu.:3.000  \n",
       " Median :301   Median : 0.000   Median :1.0000   Median :4.000  \n",
       " Mean   :301   Mean   : 1.456   Mean   :0.7155   Mean   :3.932  \n",
       " 3rd Qu.:451   3rd Qu.: 0.000   3rd Qu.:1.0000   3rd Qu.:5.000  \n",
       " Max.   :601   Max.   :12.000   Max.   :1.0000   Max.   :5.000  \n",
       "      rel           yrsmarr     \n",
       " Min.   :1.000   Min.   :1.000  \n",
       " 1st Qu.:2.000   1st Qu.:3.000  \n",
       " Median :3.000   Median :4.000  \n",
       " Mean   :3.116   Mean   :4.068  \n",
       " 3rd Qu.:4.000   3rd Qu.:6.000  \n",
       " Max.   :5.000   Max.   :6.000  "
      ]
     },
     "metadata": {},
     "output_type": "display_data"
    }
   ],
   "source": [
    "afk <- read.csv(\"affairs-k.csv\")\n",
    "summary(afk)"
   ]
  },
  {
   "cell_type": "code",
   "execution_count": 14,
   "metadata": {
    "scrolled": false
   },
   "outputs": [
    {
     "name": "stdout",
     "output_type": "stream",
     "text": [
      "'data.frame':\t601 obs. of  6 variables:\n",
      " $ X       : int  1 2 3 4 5 6 7 8 9 10 ...\n",
      " $ naffairs: int  0 0 3 0 3 0 0 0 7 0 ...\n",
      " $ kids    : int  0 0 0 1 1 1 0 0 1 0 ...\n",
      " $ hap     : int  4 4 4 4 5 5 3 5 2 3 ...\n",
      " $ rel     : int  3 4 3 1 3 5 2 2 5 2 ...\n",
      " $ yrsmarr : int  5 3 2 6 3 6 1 2 6 1 ...\n"
     ]
    }
   ],
   "source": [
    "str(afk)"
   ]
  },
  {
   "cell_type": "markdown",
   "metadata": {},
   "source": [
    " We will consider this variable as a bridge crossed and set it to binary; a person will  either cheated on their partner or not."
   ]
  },
  {
   "cell_type": "code",
   "execution_count": 15,
   "metadata": {},
   "outputs": [],
   "source": [
    "# set affairs to binary\n",
    "afk$naffairs[afk$naffairs>0] <- 1"
   ]
  },
  {
   "cell_type": "code",
   "execution_count": 18,
   "metadata": {},
   "outputs": [
    {
     "name": "stderr",
     "output_type": "stream",
     "text": [
      "Warning message:\n",
      "“package ‘hplot’ is not available (for R version 3.6.1)”\n"
     ]
    }
   ],
   "source": [
    "install.packages(\"hplot\", repos='http://cran.us.r-project.org')"
   ]
  },
  {
   "cell_type": "code",
   "execution_count": 17,
   "metadata": {},
   "outputs": [
    {
     "ename": "ERROR",
     "evalue": "Error in doubledecker(naffairs ~ kids + hap, data = afk, gp = gpar(fill = c(\"grey90\", : could not find function \"doubledecker\"\n",
     "output_type": "error",
     "traceback": [
      "Error in doubledecker(naffairs ~ kids + hap, data = afk, gp = gpar(fill = c(\"grey90\", : could not find function \"doubledecker\"\nTraceback:\n"
     ]
    }
   ],
   "source": [
    "\n",
    "doubledecker(naffairs ~ kids+hap, data = afk, gp = gpar(fill = c(\"grey90\", \"blue\")))\n"
   ]
  },
  {
   "cell_type": "code",
   "execution_count": null,
   "metadata": {},
   "outputs": [],
   "source": [
    "ddecker(naffairs~., data=afk, gp=gpar(fill = c(\"grey90\", \"blue\")))"
   ]
  }
 ],
 "metadata": {
  "kernelspec": {
   "display_name": "R",
   "language": "R",
   "name": "ir"
  },
  "language_info": {
   "codemirror_mode": "r",
   "file_extension": ".r",
   "mimetype": "text/x-r-source",
   "name": "R",
   "pygments_lexer": "r",
   "version": "3.6.1"
  }
 },
 "nbformat": 4,
 "nbformat_minor": 4
}
